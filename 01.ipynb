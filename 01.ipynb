{
 "cells": [
  {
   "cell_type": "code",
   "execution_count": 8,
   "metadata": {},
   "outputs": [],
   "source": [
    "import torch"
   ]
  },
  {
   "cell_type": "code",
   "execution_count": 5,
   "metadata": {},
   "outputs": [
    {
     "data": {
      "text/plain": [
       "True"
      ]
     },
     "execution_count": 5,
     "metadata": {},
     "output_type": "execute_result"
    }
   ],
   "source": [
    "torch.cuda.is_available()"
   ]
  },
  {
   "cell_type": "code",
   "execution_count": 14,
   "metadata": {},
   "outputs": [
    {
     "data": {
      "text/plain": [
       "tensor(1)"
      ]
     },
     "execution_count": 14,
     "metadata": {},
     "output_type": "execute_result"
    }
   ],
   "source": [
    "x = torch.tensor(1)\n",
    "x"
   ]
  },
  {
   "cell_type": "code",
   "execution_count": 20,
   "metadata": {},
   "outputs": [
    {
     "data": {
      "text/plain": [
       "tensor([[0., 0., 0.],\n",
       "        [0., 0., 0.],\n",
       "        [0., 0., 0.]])"
      ]
     },
     "execution_count": 20,
     "metadata": {},
     "output_type": "execute_result"
    }
   ],
   "source": [
    "# intialise 0s \n",
    "torch.zeros(3,3)\n"
   ]
  },
  {
   "cell_type": "code",
   "execution_count": 22,
   "metadata": {},
   "outputs": [
    {
     "data": {
      "text/plain": [
       "tensor([[1.],\n",
       "        [1.],\n",
       "        [1.]])"
      ]
     },
     "execution_count": 22,
     "metadata": {},
     "output_type": "execute_result"
    }
   ],
   "source": [
    "# intialise 1s \n",
    "torch.ones(3,1)"
   ]
  },
  {
   "cell_type": "code",
   "execution_count": 23,
   "metadata": {},
   "outputs": [
    {
     "data": {
      "text/plain": [
       "tensor([[1., 1., 1.]])"
      ]
     },
     "execution_count": 23,
     "metadata": {},
     "output_type": "execute_result"
    }
   ],
   "source": [
    "torch.ones(1,3)"
   ]
  },
  {
   "cell_type": "code",
   "execution_count": 24,
   "metadata": {},
   "outputs": [
    {
     "data": {
      "text/plain": [
       "tensor([[1., 1.],\n",
       "        [1., 1.],\n",
       "        [1., 1.],\n",
       "        [1., 1.],\n",
       "        [1., 1.]])"
      ]
     },
     "execution_count": 24,
     "metadata": {},
     "output_type": "execute_result"
    }
   ],
   "source": [
    "torch.ones(5,2)"
   ]
  },
  {
   "cell_type": "code",
   "execution_count": 27,
   "metadata": {},
   "outputs": [
    {
     "data": {
      "text/plain": [
       "tensor([ 0,  1,  2,  3,  4,  5,  6,  7,  8,  9, 10, 11, 12, 13, 14, 15, 16, 17,\n",
       "        18, 19, 20, 21, 22, 23, 24, 25, 26, 27, 28, 29, 30, 31, 32, 33, 34, 35,\n",
       "        36, 37, 38, 39, 40, 41, 42, 43, 44, 45, 46, 47, 48, 49, 50, 51, 52, 53,\n",
       "        54, 55, 56, 57, 58, 59, 60, 61, 62, 63, 64, 65, 66, 67, 68, 69, 70, 71,\n",
       "        72, 73, 74, 75, 76, 77, 78, 79, 80, 81, 82, 83, 84, 85, 86, 87, 88, 89,\n",
       "        90, 91, 92, 93, 94, 95, 96, 97, 98, 99])"
      ]
     },
     "execution_count": 27,
     "metadata": {},
     "output_type": "execute_result"
    }
   ],
   "source": [
    "# from list \n",
    "\n",
    "x = [x for x in range(100)]\n",
    "torch.tensor(x)"
   ]
  },
  {
   "cell_type": "code",
   "execution_count": 39,
   "metadata": {},
   "outputs": [],
   "source": [
    "x = [x for x in range(100)]\n",
    "y = [y*y for y in range(100)]\n",
    "x = torch.tensor(x)\n",
    "y = torch.tensor(y)"
   ]
  },
  {
   "cell_type": "code",
   "execution_count": 40,
   "metadata": {},
   "outputs": [
    {
     "name": "stdout",
     "output_type": "stream",
     "text": [
      "cuda\n"
     ]
    }
   ],
   "source": [
    "# preferred method: device agnostic tensor instantiation\n",
    "device = torch.device(\"cuda\" if torch.cuda.is_available() else \"cpu\")\n",
    "print(device)\n",
    "\n"
   ]
  },
  {
   "cell_type": "code",
   "execution_count": 42,
   "metadata": {},
   "outputs": [
    {
     "data": {
      "text/plain": [
       "tensor([   0,    1,    4,    9,   16,   25,   36,   49,   64,   81,  100,  121,\n",
       "         144,  169,  196,  225,  256,  289,  324,  361,  400,  441,  484,  529,\n",
       "         576,  625,  676,  729,  784,  841,  900,  961, 1024, 1089, 1156, 1225,\n",
       "        1296, 1369, 1444, 1521, 1600, 1681, 1764, 1849, 1936, 2025, 2116, 2209,\n",
       "        2304, 2401, 2500, 2601, 2704, 2809, 2916, 3025, 3136, 3249, 3364, 3481,\n",
       "        3600, 3721, 3844, 3969, 4096, 4225, 4356, 4489, 4624, 4761, 4900, 5041,\n",
       "        5184, 5329, 5476, 5625, 5776, 5929, 6084, 6241, 6400, 6561, 6724, 6889,\n",
       "        7056, 7225, 7396, 7569, 7744, 7921, 8100, 8281, 8464, 8649, 8836, 9025,\n",
       "        9216, 9409, 9604, 9801], device='cuda:0')"
      ]
     },
     "execution_count": 42,
     "metadata": {},
     "output_type": "execute_result"
    }
   ],
   "source": [
    "x.to(device)\n",
    "y.to(device)"
   ]
  },
  {
   "cell_type": "code",
   "execution_count": 44,
   "metadata": {},
   "outputs": [
    {
     "data": {
      "text/plain": [
       "tensor([   0,    2,    6,   12,   20,   30,   42,   56,   72,   90,  110,  132,\n",
       "         156,  182,  210,  240,  272,  306,  342,  380,  420,  462,  506,  552,\n",
       "         600,  650,  702,  756,  812,  870,  930,  992, 1056, 1122, 1190, 1260,\n",
       "        1332, 1406, 1482, 1560, 1640, 1722, 1806, 1892, 1980, 2070, 2162, 2256,\n",
       "        2352, 2450, 2550, 2652, 2756, 2862, 2970, 3080, 3192, 3306, 3422, 3540,\n",
       "        3660, 3782, 3906, 4032, 4160, 4290, 4422, 4556, 4692, 4830, 4970, 5112,\n",
       "        5256, 5402, 5550, 5700, 5852, 6006, 6162, 6320, 6480, 6642, 6806, 6972,\n",
       "        7140, 7310, 7482, 7656, 7832, 8010, 8190, 8372, 8556, 8742, 8930, 9120,\n",
       "        9312, 9506, 9702, 9900])"
      ]
     },
     "execution_count": 44,
     "metadata": {},
     "output_type": "execute_result"
    }
   ],
   "source": [
    "# add \n",
    "\n",
    "y + x"
   ]
  },
  {
   "cell_type": "code",
   "execution_count": 47,
   "metadata": {},
   "outputs": [
    {
     "data": {
      "text/plain": [
       "tensor([     0,      1,      8,     27,     64,    125,    216,    343,    512,\n",
       "           729,   1000,   1331,   1728,   2197,   2744,   3375,   4096,   4913,\n",
       "          5832,   6859,   8000,   9261,  10648,  12167,  13824,  15625,  17576,\n",
       "         19683,  21952,  24389,  27000,  29791,  32768,  35937,  39304,  42875,\n",
       "         46656,  50653,  54872,  59319,  64000,  68921,  74088,  79507,  85184,\n",
       "         91125,  97336, 103823, 110592, 117649, 125000, 132651, 140608, 148877,\n",
       "        157464, 166375, 175616, 185193, 195112, 205379, 216000, 226981, 238328,\n",
       "        250047, 262144, 274625, 287496, 300763, 314432, 328509, 343000, 357911,\n",
       "        373248, 389017, 405224, 421875, 438976, 456533, 474552, 493039, 512000,\n",
       "        531441, 551368, 571787, 592704, 614125, 636056, 658503, 681472, 704969,\n",
       "        729000, 753571, 778688, 804357, 830584, 857375, 884736, 912673, 941192,\n",
       "        970299])"
      ]
     },
     "execution_count": 47,
     "metadata": {},
     "output_type": "execute_result"
    }
   ],
   "source": [
    "#multiply \n",
    "\n",
    "y * x"
   ]
  },
  {
   "cell_type": "markdown",
   "metadata": {},
   "source": [
    "# Exercises"
   ]
  },
  {
   "cell_type": "markdown",
   "metadata": {},
   "source": [
    "Create 2d tensor and then add dimension of size 1 inserted at dimension 0"
   ]
  },
  {
   "cell_type": "code",
   "execution_count": 65,
   "metadata": {},
   "outputs": [
    {
     "data": {
      "text/plain": [
       "tensor([[0.0375, 0.3951, 0.3623],\n",
       "        [0.9051, 0.3052, 0.6696],\n",
       "        [0.4215, 0.4427, 0.0710]])"
      ]
     },
     "execution_count": 65,
     "metadata": {},
     "output_type": "execute_result"
    }
   ],
   "source": [
    "x = torch.rand(3, 3)\n",
    "x"
   ]
  },
  {
   "cell_type": "code",
   "execution_count": 66,
   "metadata": {},
   "outputs": [
    {
     "data": {
      "text/plain": [
       "tensor([[[0.0375, 0.3951, 0.3623],\n",
       "         [0.9051, 0.3052, 0.6696],\n",
       "         [0.4215, 0.4427, 0.0710]]])"
      ]
     },
     "execution_count": 66,
     "metadata": {},
     "output_type": "execute_result"
    }
   ],
   "source": [
    "x.unsqueeze(0)"
   ]
  },
  {
   "cell_type": "code",
   "execution_count": 68,
   "metadata": {},
   "outputs": [
    {
     "data": {
      "text/plain": [
       "tensor([[0.0375, 0.3951, 0.3623],\n",
       "        [0.9051, 0.3052, 0.6696],\n",
       "        [0.4215, 0.4427, 0.0710]])"
      ]
     },
     "execution_count": 68,
     "metadata": {},
     "output_type": "execute_result"
    }
   ],
   "source": [
    "# remove extra dimension \n",
    "x.squeeze(0)"
   ]
  },
  {
   "cell_type": "markdown",
   "metadata": {},
   "source": [
    "see https://pytorch.org/docs/master/torch.html#torch.unsqueeze"
   ]
  },
  {
   "cell_type": "code",
   "execution_count": 72,
   "metadata": {},
   "outputs": [
    {
     "data": {
      "text/plain": [
       "tensor([[0.8656, 1.5312, 0.7946],\n",
       "        [2.6892, 0.5671, 0.6439],\n",
       "        [2.4084, 2.8114, 3.2457],\n",
       "        [1.1354, 2.8774, 1.3748],\n",
       "        [0.2392, 1.7058, 1.6729]])"
      ]
     },
     "execution_count": 72,
     "metadata": {},
     "output_type": "execute_result"
    }
   ],
   "source": [
    "torch.rand(5,3) * (7-3)"
   ]
  },
  {
   "cell_type": "code",
   "execution_count": 73,
   "metadata": {},
   "outputs": [
    {
     "data": {
      "text/plain": [
       "tensor([[3.1842, 3.2609, 5.9185],\n",
       "        [6.4325, 5.9947, 5.2765],\n",
       "        [4.7907, 5.4959, 5.0669],\n",
       "        [5.7134, 5.3902, 4.9600],\n",
       "        [5.3823, 4.4348, 4.2720]])"
      ]
     },
     "execution_count": 73,
     "metadata": {},
     "output_type": "execute_result"
    }
   ],
   "source": [
    "3 + torch.rand(5,3) * (7-3)"
   ]
  },
  {
   "cell_type": "markdown",
   "metadata": {},
   "source": [
    "Create a tensor with values from a normal distribution (mean=0, std=1)\n",
    "\n"
   ]
  },
  {
   "cell_type": "code",
   "execution_count": 81,
   "metadata": {},
   "outputs": [
    {
     "data": {
      "text/plain": [
       "tensor([[-0.9454, -0.4821, -0.3783,  1.0318, -0.1875],\n",
       "        [-2.6420, -1.1958, -0.5966, -0.1482,  1.7588],\n",
       "        [-0.5241, -0.1470,  0.1372, -0.5154,  0.1179],\n",
       "        [ 1.4373, -1.7104,  1.4050, -0.2363,  1.5552],\n",
       "        [-0.8589, -0.0644, -0.8818,  0.7477, -0.1142]])"
      ]
     },
     "execution_count": 81,
     "metadata": {},
     "output_type": "execute_result"
    }
   ],
   "source": [
    "torch.randn(5,5)"
   ]
  },
  {
   "cell_type": "code",
   "execution_count": 84,
   "metadata": {},
   "outputs": [
    {
     "data": {
      "text/plain": [
       "tensor([[ 0.3781, -2.0102, -0.0899,  0.2491, -0.8698],\n",
       "        [ 0.5779,  0.3114,  0.2666, -0.1392, -0.7565],\n",
       "        [-0.8036,  1.3234, -1.5964, -0.2580,  1.5297],\n",
       "        [-0.5321, -0.3349,  0.0190,  0.4374, -0.5422],\n",
       "        [ 1.6935,  2.5175,  2.5469,  0.3472,  1.4508]])"
      ]
     },
     "execution_count": 84,
     "metadata": {},
     "output_type": "execute_result"
    }
   ],
   "source": [
    "a = torch.rand(5,5)\n",
    "a.normal_()\n",
    "a\n"
   ]
  },
  {
   "cell_type": "markdown",
   "metadata": {},
   "source": [
    "Retrieve the indexes of all the nonzero elements in the tensor torch.Tensor([1, 1, 1, 0, 1]).\n"
   ]
  },
  {
   "cell_type": "code",
   "execution_count": 88,
   "metadata": {},
   "outputs": [
    {
     "data": {
      "text/plain": [
       "tensor([[0],\n",
       "        [1],\n",
       "        [2],\n",
       "        [4]])"
      ]
     },
     "execution_count": 88,
     "metadata": {},
     "output_type": "execute_result"
    }
   ],
   "source": [
    "x = torch.tensor([1,1,1,0,1])\n",
    "x.nonzero()"
   ]
  },
  {
   "cell_type": "markdown",
   "metadata": {},
   "source": [
    "Create a random tensor of size (3,1) and then horizontally stack four copies together.\n"
   ]
  },
  {
   "cell_type": "code",
   "execution_count": 90,
   "metadata": {},
   "outputs": [
    {
     "data": {
      "text/plain": [
       "tensor([[0.8490],\n",
       "        [0.1537],\n",
       "        [0.3247]])"
      ]
     },
     "execution_count": 90,
     "metadata": {},
     "output_type": "execute_result"
    }
   ],
   "source": [
    "x = torch.rand(3,1)\n",
    "x"
   ]
  },
  {
   "cell_type": "code",
   "execution_count": 92,
   "metadata": {},
   "outputs": [
    {
     "data": {
      "text/plain": [
       "tensor([[0.8490, 0.8490, 0.8490, 0.8490],\n",
       "        [0.1537, 0.1537, 0.1537, 0.1537],\n",
       "        [0.3247, 0.3247, 0.3247, 0.3247]])"
      ]
     },
     "execution_count": 92,
     "metadata": {},
     "output_type": "execute_result"
    }
   ],
   "source": [
    "x.expand(3, 4)"
   ]
  },
  {
   "cell_type": "markdown",
   "metadata": {},
   "source": [
    "Return the batch matrix-matrix product of two three-dimensional matrices (a=torch.rand(3,4,5), b=torch.rand(3,5,4))"
   ]
  },
  {
   "cell_type": "code",
   "execution_count": 98,
   "metadata": {},
   "outputs": [
    {
     "name": "stdout",
     "output_type": "stream",
     "text": [
      "tensor([[[0.3455, 0.7085, 0.1011, 0.1880, 0.9315],\n",
      "         [0.6897, 0.6375, 0.8302, 0.8623, 0.0944],\n",
      "         [0.9106, 0.4887, 0.9592, 0.8593, 0.5840],\n",
      "         [0.4186, 0.1219, 0.6586, 0.8219, 0.0432]],\n",
      "\n",
      "        [[0.1071, 0.5961, 0.8752, 0.5856, 0.4140],\n",
      "         [0.5674, 0.2182, 0.8779, 0.4938, 0.3616],\n",
      "         [0.9922, 0.4255, 0.1354, 0.5631, 0.8581],\n",
      "         [0.9176, 0.3434, 0.1361, 0.7706, 0.7108]],\n",
      "\n",
      "        [[0.5636, 0.8800, 0.2564, 0.5363, 0.3410],\n",
      "         [0.0452, 0.1052, 0.1975, 0.1302, 0.6228],\n",
      "         [0.2922, 0.7369, 0.7851, 0.5161, 0.1540],\n",
      "         [0.2883, 0.3376, 0.7797, 0.4224, 0.2686]]])\n",
      "tensor([[[0.7992, 0.3292, 0.6225, 0.2279],\n",
      "         [0.5873, 0.5479, 0.4222, 0.9350],\n",
      "         [0.6037, 0.8041, 0.7838, 0.6137],\n",
      "         [0.2735, 0.3647, 0.9111, 0.4786],\n",
      "         [0.0716, 0.5570, 0.1226, 0.2377]],\n",
      "\n",
      "        [[0.8940, 0.4894, 0.7351, 0.8505],\n",
      "         [0.0541, 0.7539, 0.6952, 0.8915],\n",
      "         [0.6910, 0.0725, 0.4054, 0.5062],\n",
      "         [0.0526, 0.0927, 0.1734, 0.5316],\n",
      "         [0.2071, 0.5401, 0.9496, 0.6439]],\n",
      "\n",
      "        [[0.9389, 0.3283, 0.2800, 0.7079],\n",
      "         [0.8499, 0.9493, 0.3711, 0.5936],\n",
      "         [0.8096, 0.5837, 0.2730, 0.0525],\n",
      "         [0.5543, 0.0369, 0.6149, 0.4693],\n",
      "         [0.3317, 0.7829, 0.7315, 0.4803]]])\n"
     ]
    }
   ],
   "source": [
    "a = torch.rand(3,4,5) \n",
    "b = torch.rand(3,5,4)\n",
    "print(a)\n",
    "print(b)"
   ]
  },
  {
   "cell_type": "code",
   "execution_count": 101,
   "metadata": {},
   "outputs": [
    {
     "data": {
      "text/plain": [
       "tensor([[[0.8714, 1.1707, 0.8790, 1.1147],\n",
       "         [1.6693, 1.6110, 2.1464, 1.6979],\n",
       "         [1.8707, 1.9776, 2.3796, 1.8033],\n",
       "         [1.0316, 1.0580, 1.5824, 1.0172]],\n",
       "\n",
       "        [[0.8493, 0.8431, 1.3426, 1.6433],\n",
       "         [1.2266, 0.7469, 1.3537, 1.6168],\n",
       "         [1.2109, 1.3319, 1.9926, 2.1436],\n",
       "         [1.1207, 1.1732, 1.7771, 2.0228]],\n",
       "\n",
       "        [[1.8950, 1.4568, 1.1336, 1.3503],\n",
       "         [0.5706, 0.7225, 0.6413, 0.4651],\n",
       "         [1.8734, 1.3934, 0.9996, 1.0018],\n",
       "         [1.5121, 1.0961, 0.8751, 0.7727]]])"
      ]
     },
     "execution_count": 101,
     "metadata": {},
     "output_type": "execute_result"
    }
   ],
   "source": [
    "c = torch.bmm(a,b)\n",
    "c"
   ]
  },
  {
   "cell_type": "code",
   "execution_count": null,
   "metadata": {},
   "outputs": [],
   "source": []
  },
  {
   "cell_type": "markdown",
   "metadata": {},
   "source": [
    "# useful documentation \n",
    "\n",
    "- https://jhui.github.io/2018/02/09/PyTorch-Basic-operations/"
   ]
  },
  {
   "cell_type": "code",
   "execution_count": null,
   "metadata": {},
   "outputs": [],
   "source": []
  }
 ],
 "metadata": {
  "kernelspec": {
   "display_name": "Python 3",
   "language": "python",
   "name": "python3"
  },
  "language_info": {
   "codemirror_mode": {
    "name": "ipython",
    "version": 3
   },
   "file_extension": ".py",
   "mimetype": "text/x-python",
   "name": "python",
   "nbconvert_exporter": "python",
   "pygments_lexer": "ipython3",
   "version": "3.7.2"
  }
 },
 "nbformat": 4,
 "nbformat_minor": 2
}
