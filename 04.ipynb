{
  "cells": [
    {
      "metadata": {
        "collapsed": true
      },
      "cell_type": "markdown",
      "source": "# 4 Feed-forward Networks for NLP"
    },
    {
      "metadata": {},
      "cell_type": "markdown",
      "source": "## Multilayer Percepton "
    },
    {
      "metadata": {
        "trusted": true
      },
      "cell_type": "code",
      "source": "import torch.nn as nn\nimport torch.nn.functional as F",
      "execution_count": 2,
      "outputs": []
    },
    {
      "metadata": {
        "trusted": true
      },
      "cell_type": "code",
      "source": "class MultilayerPerceptron(nn.module):\n    def __init__(self, input_dim, hidden_dim, output_dim):\n        \"\"\"\n        Args:\n        input_dim (int): the size of the input vectors\n        hidden_dim (int): the output size of the first Linear layer\n        output_dim (int): the output size of the second linear layer\n        \"\"\"\n        super(MultilayerPerceptron, self).__init__()\n        self.fc1 = nn.Linear(input_dim, hidden_dim)\n        self.fc2 = nn.Linear(input_dim, output_dim)\n        \n    def forward(self, x_in, apply_softmax=False)\n        \"\"\"The foward pass of the MLP\n        Args:\n        x_in (torch.tensor): an input data tensor\n            x_in.shape should be (batch, input_dim)\n        apply_softmax (bool): a flag for the softmax activation \n        should be false if used with the cross-entropy losses\n        \n        Returns: \n            the resulting tensor.tensor.shape should be (batch, output_dim\n        \n        \"\"\"\n        intermediate = F.relu(self.fc1(x_in))\n        output = self.fc2(intermediate)\n        \n        if apply_softmax:\n            output = F.softmax()",
      "execution_count": null,
      "outputs": []
    }
  ],
  "metadata": {
    "kernelspec": {
      "name": "python36",
      "display_name": "Python 3.6",
      "language": "python"
    },
    "language_info": {
      "mimetype": "text/x-python",
      "nbconvert_exporter": "python",
      "name": "python",
      "pygments_lexer": "ipython3",
      "version": "3.6.6",
      "file_extension": ".py",
      "codemirror_mode": {
        "version": 3,
        "name": "ipython"
      }
    }
  },
  "nbformat": 4,
  "nbformat_minor": 2
}